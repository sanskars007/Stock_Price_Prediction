{
  "nbformat": 4,
  "nbformat_minor": 0,
  "metadata": {
    "colab": {
      "provenance": [],
      "authorship_tag": "ABX9TyOAtCak1zau1hfcAL2vtD8e",
      "include_colab_link": true
    },
    "kernelspec": {
      "name": "python3",
      "display_name": "Python 3"
    },
    "language_info": {
      "name": "python"
    }
  },
  "cells": [
    {
      "cell_type": "markdown",
      "metadata": {
        "id": "view-in-github",
        "colab_type": "text"
      },
      "source": [
        "<a href=\"https://colab.research.google.com/github/sbawari20/Stock-Prices-Prediction/blob/main/Stock_Price_Prediction.ipynb\" target=\"_parent\"><img src=\"https://colab.research.google.com/assets/colab-badge.svg\" alt=\"Open In Colab\"/></a>"
      ]
    },
    {
      "cell_type": "code",
      "execution_count": 7,
      "metadata": {
        "colab": {
          "base_uri": "https://localhost:8080/"
        },
        "id": "rZgJRTOA2n98",
        "outputId": "50fef3a8-a632-4633-fb19-5b465f2ca472"
      },
      "outputs": [
        {
          "output_type": "stream",
          "name": "stdout",
          "text": [
            "Looking in indexes: https://pypi.org/simple, https://us-python.pkg.dev/colab-wheels/public/simple/\n",
            "Requirement already satisfied: yfinance in /usr/local/lib/python3.8/dist-packages (0.1.87)\n",
            "Requirement already satisfied: numpy>=1.15 in /usr/local/lib/python3.8/dist-packages (from yfinance) (1.21.6)\n",
            "Requirement already satisfied: appdirs>=1.4.4 in /usr/local/lib/python3.8/dist-packages (from yfinance) (1.4.4)\n",
            "Requirement already satisfied: requests>=2.26 in /usr/local/lib/python3.8/dist-packages (from yfinance) (2.28.1)\n",
            "Requirement already satisfied: pandas>=0.24.0 in /usr/local/lib/python3.8/dist-packages (from yfinance) (1.3.5)\n",
            "Requirement already satisfied: multitasking>=0.0.7 in /usr/local/lib/python3.8/dist-packages (from yfinance) (0.0.11)\n",
            "Requirement already satisfied: lxml>=4.5.1 in /usr/local/lib/python3.8/dist-packages (from yfinance) (4.9.1)\n",
            "Requirement already satisfied: python-dateutil>=2.7.3 in /usr/local/lib/python3.8/dist-packages (from pandas>=0.24.0->yfinance) (2.8.2)\n",
            "Requirement already satisfied: pytz>=2017.3 in /usr/local/lib/python3.8/dist-packages (from pandas>=0.24.0->yfinance) (2022.6)\n",
            "Requirement already satisfied: six>=1.5 in /usr/local/lib/python3.8/dist-packages (from python-dateutil>=2.7.3->pandas>=0.24.0->yfinance) (1.15.0)\n",
            "Requirement already satisfied: urllib3<1.27,>=1.21.1 in /usr/local/lib/python3.8/dist-packages (from requests>=2.26->yfinance) (1.24.3)\n",
            "Requirement already satisfied: idna<4,>=2.5 in /usr/local/lib/python3.8/dist-packages (from requests>=2.26->yfinance) (2.10)\n",
            "Requirement already satisfied: certifi>=2017.4.17 in /usr/local/lib/python3.8/dist-packages (from requests>=2.26->yfinance) (2022.9.24)\n",
            "Requirement already satisfied: charset-normalizer<3,>=2 in /usr/local/lib/python3.8/dist-packages (from requests>=2.26->yfinance) (2.1.1)\n"
          ]
        }
      ],
      "source": [
        "import pandas as pd\n",
        "!pip install yfinance\n",
        "import yfinance as yf\n",
        "msft = yf.Ticker(\"MSFT\")\n",
        "msft_hist = msft.history(period=\"max\")"
      ]
    },
    {
      "cell_type": "code",
      "source": [
        "msft_hist"
      ],
      "metadata": {
        "colab": {
          "base_uri": "https://localhost:8080/",
          "height": 455
        },
        "id": "nd6Xcr_64YKl",
        "outputId": "f9f86d3c-d179-4275-a00c-e5e454d69206"
      },
      "execution_count": 9,
      "outputs": [
        {
          "output_type": "execute_result",
          "data": {
            "text/plain": [
              "                                 Open        High         Low       Close  \\\n",
              "Date                                                                        \n",
              "1986-03-13 00:00:00-05:00    0.055380    0.063524    0.055380    0.060809   \n",
              "1986-03-14 00:00:00-05:00    0.060809    0.064067    0.060809    0.062980   \n",
              "1986-03-17 00:00:00-05:00    0.062980    0.064609    0.062980    0.064067   \n",
              "1986-03-18 00:00:00-05:00    0.064067    0.064609    0.061894    0.062437   \n",
              "1986-03-19 00:00:00-05:00    0.062437    0.062980    0.060809    0.061351   \n",
              "...                               ...         ...         ...         ...   \n",
              "2022-11-28 00:00:00-05:00  246.080002  246.649994  240.800003  241.759995   \n",
              "2022-11-29 00:00:00-05:00  241.399994  242.789993  238.210007  240.330002   \n",
              "2022-11-30 00:00:00-05:00  240.570007  255.330002  239.860001  255.139999   \n",
              "2022-12-01 00:00:00-05:00  253.869995  256.119995  250.919998  254.690002   \n",
              "2022-12-02 00:00:00-05:00  249.820007  256.059998  249.690002  255.020004   \n",
              "\n",
              "                               Volume  Dividends  Stock Splits  \n",
              "Date                                                            \n",
              "1986-03-13 00:00:00-05:00  1031788800        0.0           0.0  \n",
              "1986-03-14 00:00:00-05:00   308160000        0.0           0.0  \n",
              "1986-03-17 00:00:00-05:00   133171200        0.0           0.0  \n",
              "1986-03-18 00:00:00-05:00    67766400        0.0           0.0  \n",
              "1986-03-19 00:00:00-05:00    47894400        0.0           0.0  \n",
              "...                               ...        ...           ...  \n",
              "2022-11-28 00:00:00-05:00    24778200        0.0           0.0  \n",
              "2022-11-29 00:00:00-05:00    17956300        0.0           0.0  \n",
              "2022-11-30 00:00:00-05:00    47553800        0.0           0.0  \n",
              "2022-12-01 00:00:00-05:00    26041500        0.0           0.0  \n",
              "2022-12-02 00:00:00-05:00    21522800        0.0           0.0  \n",
              "\n",
              "[9258 rows x 7 columns]"
            ],
            "text/html": [
              "\n",
              "  <div id=\"df-04c63163-bc6e-4f28-b594-4d892e100746\">\n",
              "    <div class=\"colab-df-container\">\n",
              "      <div>\n",
              "<style scoped>\n",
              "    .dataframe tbody tr th:only-of-type {\n",
              "        vertical-align: middle;\n",
              "    }\n",
              "\n",
              "    .dataframe tbody tr th {\n",
              "        vertical-align: top;\n",
              "    }\n",
              "\n",
              "    .dataframe thead th {\n",
              "        text-align: right;\n",
              "    }\n",
              "</style>\n",
              "<table border=\"1\" class=\"dataframe\">\n",
              "  <thead>\n",
              "    <tr style=\"text-align: right;\">\n",
              "      <th></th>\n",
              "      <th>Open</th>\n",
              "      <th>High</th>\n",
              "      <th>Low</th>\n",
              "      <th>Close</th>\n",
              "      <th>Volume</th>\n",
              "      <th>Dividends</th>\n",
              "      <th>Stock Splits</th>\n",
              "    </tr>\n",
              "    <tr>\n",
              "      <th>Date</th>\n",
              "      <th></th>\n",
              "      <th></th>\n",
              "      <th></th>\n",
              "      <th></th>\n",
              "      <th></th>\n",
              "      <th></th>\n",
              "      <th></th>\n",
              "    </tr>\n",
              "  </thead>\n",
              "  <tbody>\n",
              "    <tr>\n",
              "      <th>1986-03-13 00:00:00-05:00</th>\n",
              "      <td>0.055380</td>\n",
              "      <td>0.063524</td>\n",
              "      <td>0.055380</td>\n",
              "      <td>0.060809</td>\n",
              "      <td>1031788800</td>\n",
              "      <td>0.0</td>\n",
              "      <td>0.0</td>\n",
              "    </tr>\n",
              "    <tr>\n",
              "      <th>1986-03-14 00:00:00-05:00</th>\n",
              "      <td>0.060809</td>\n",
              "      <td>0.064067</td>\n",
              "      <td>0.060809</td>\n",
              "      <td>0.062980</td>\n",
              "      <td>308160000</td>\n",
              "      <td>0.0</td>\n",
              "      <td>0.0</td>\n",
              "    </tr>\n",
              "    <tr>\n",
              "      <th>1986-03-17 00:00:00-05:00</th>\n",
              "      <td>0.062980</td>\n",
              "      <td>0.064609</td>\n",
              "      <td>0.062980</td>\n",
              "      <td>0.064067</td>\n",
              "      <td>133171200</td>\n",
              "      <td>0.0</td>\n",
              "      <td>0.0</td>\n",
              "    </tr>\n",
              "    <tr>\n",
              "      <th>1986-03-18 00:00:00-05:00</th>\n",
              "      <td>0.064067</td>\n",
              "      <td>0.064609</td>\n",
              "      <td>0.061894</td>\n",
              "      <td>0.062437</td>\n",
              "      <td>67766400</td>\n",
              "      <td>0.0</td>\n",
              "      <td>0.0</td>\n",
              "    </tr>\n",
              "    <tr>\n",
              "      <th>1986-03-19 00:00:00-05:00</th>\n",
              "      <td>0.062437</td>\n",
              "      <td>0.062980</td>\n",
              "      <td>0.060809</td>\n",
              "      <td>0.061351</td>\n",
              "      <td>47894400</td>\n",
              "      <td>0.0</td>\n",
              "      <td>0.0</td>\n",
              "    </tr>\n",
              "    <tr>\n",
              "      <th>...</th>\n",
              "      <td>...</td>\n",
              "      <td>...</td>\n",
              "      <td>...</td>\n",
              "      <td>...</td>\n",
              "      <td>...</td>\n",
              "      <td>...</td>\n",
              "      <td>...</td>\n",
              "    </tr>\n",
              "    <tr>\n",
              "      <th>2022-11-28 00:00:00-05:00</th>\n",
              "      <td>246.080002</td>\n",
              "      <td>246.649994</td>\n",
              "      <td>240.800003</td>\n",
              "      <td>241.759995</td>\n",
              "      <td>24778200</td>\n",
              "      <td>0.0</td>\n",
              "      <td>0.0</td>\n",
              "    </tr>\n",
              "    <tr>\n",
              "      <th>2022-11-29 00:00:00-05:00</th>\n",
              "      <td>241.399994</td>\n",
              "      <td>242.789993</td>\n",
              "      <td>238.210007</td>\n",
              "      <td>240.330002</td>\n",
              "      <td>17956300</td>\n",
              "      <td>0.0</td>\n",
              "      <td>0.0</td>\n",
              "    </tr>\n",
              "    <tr>\n",
              "      <th>2022-11-30 00:00:00-05:00</th>\n",
              "      <td>240.570007</td>\n",
              "      <td>255.330002</td>\n",
              "      <td>239.860001</td>\n",
              "      <td>255.139999</td>\n",
              "      <td>47553800</td>\n",
              "      <td>0.0</td>\n",
              "      <td>0.0</td>\n",
              "    </tr>\n",
              "    <tr>\n",
              "      <th>2022-12-01 00:00:00-05:00</th>\n",
              "      <td>253.869995</td>\n",
              "      <td>256.119995</td>\n",
              "      <td>250.919998</td>\n",
              "      <td>254.690002</td>\n",
              "      <td>26041500</td>\n",
              "      <td>0.0</td>\n",
              "      <td>0.0</td>\n",
              "    </tr>\n",
              "    <tr>\n",
              "      <th>2022-12-02 00:00:00-05:00</th>\n",
              "      <td>249.820007</td>\n",
              "      <td>256.059998</td>\n",
              "      <td>249.690002</td>\n",
              "      <td>255.020004</td>\n",
              "      <td>21522800</td>\n",
              "      <td>0.0</td>\n",
              "      <td>0.0</td>\n",
              "    </tr>\n",
              "  </tbody>\n",
              "</table>\n",
              "<p>9258 rows × 7 columns</p>\n",
              "</div>\n",
              "      <button class=\"colab-df-convert\" onclick=\"convertToInteractive('df-04c63163-bc6e-4f28-b594-4d892e100746')\"\n",
              "              title=\"Convert this dataframe to an interactive table.\"\n",
              "              style=\"display:none;\">\n",
              "        \n",
              "  <svg xmlns=\"http://www.w3.org/2000/svg\" height=\"24px\"viewBox=\"0 0 24 24\"\n",
              "       width=\"24px\">\n",
              "    <path d=\"M0 0h24v24H0V0z\" fill=\"none\"/>\n",
              "    <path d=\"M18.56 5.44l.94 2.06.94-2.06 2.06-.94-2.06-.94-.94-2.06-.94 2.06-2.06.94zm-11 1L8.5 8.5l.94-2.06 2.06-.94-2.06-.94L8.5 2.5l-.94 2.06-2.06.94zm10 10l.94 2.06.94-2.06 2.06-.94-2.06-.94-.94-2.06-.94 2.06-2.06.94z\"/><path d=\"M17.41 7.96l-1.37-1.37c-.4-.4-.92-.59-1.43-.59-.52 0-1.04.2-1.43.59L10.3 9.45l-7.72 7.72c-.78.78-.78 2.05 0 2.83L4 21.41c.39.39.9.59 1.41.59.51 0 1.02-.2 1.41-.59l7.78-7.78 2.81-2.81c.8-.78.8-2.07 0-2.86zM5.41 20L4 18.59l7.72-7.72 1.47 1.35L5.41 20z\"/>\n",
              "  </svg>\n",
              "      </button>\n",
              "      \n",
              "  <style>\n",
              "    .colab-df-container {\n",
              "      display:flex;\n",
              "      flex-wrap:wrap;\n",
              "      gap: 12px;\n",
              "    }\n",
              "\n",
              "    .colab-df-convert {\n",
              "      background-color: #E8F0FE;\n",
              "      border: none;\n",
              "      border-radius: 50%;\n",
              "      cursor: pointer;\n",
              "      display: none;\n",
              "      fill: #1967D2;\n",
              "      height: 32px;\n",
              "      padding: 0 0 0 0;\n",
              "      width: 32px;\n",
              "    }\n",
              "\n",
              "    .colab-df-convert:hover {\n",
              "      background-color: #E2EBFA;\n",
              "      box-shadow: 0px 1px 2px rgba(60, 64, 67, 0.3), 0px 1px 3px 1px rgba(60, 64, 67, 0.15);\n",
              "      fill: #174EA6;\n",
              "    }\n",
              "\n",
              "    [theme=dark] .colab-df-convert {\n",
              "      background-color: #3B4455;\n",
              "      fill: #D2E3FC;\n",
              "    }\n",
              "\n",
              "    [theme=dark] .colab-df-convert:hover {\n",
              "      background-color: #434B5C;\n",
              "      box-shadow: 0px 1px 3px 1px rgba(0, 0, 0, 0.15);\n",
              "      filter: drop-shadow(0px 1px 2px rgba(0, 0, 0, 0.3));\n",
              "      fill: #FFFFFF;\n",
              "    }\n",
              "  </style>\n",
              "\n",
              "      <script>\n",
              "        const buttonEl =\n",
              "          document.querySelector('#df-04c63163-bc6e-4f28-b594-4d892e100746 button.colab-df-convert');\n",
              "        buttonEl.style.display =\n",
              "          google.colab.kernel.accessAllowed ? 'block' : 'none';\n",
              "\n",
              "        async function convertToInteractive(key) {\n",
              "          const element = document.querySelector('#df-04c63163-bc6e-4f28-b594-4d892e100746');\n",
              "          const dataTable =\n",
              "            await google.colab.kernel.invokeFunction('convertToInteractive',\n",
              "                                                     [key], {});\n",
              "          if (!dataTable) return;\n",
              "\n",
              "          const docLinkHtml = 'Like what you see? Visit the ' +\n",
              "            '<a target=\"_blank\" href=https://colab.research.google.com/notebooks/data_table.ipynb>data table notebook</a>'\n",
              "            + ' to learn more about interactive tables.';\n",
              "          element.innerHTML = '';\n",
              "          dataTable['output_type'] = 'display_data';\n",
              "          await google.colab.output.renderOutput(dataTable, element);\n",
              "          const docLink = document.createElement('div');\n",
              "          docLink.innerHTML = docLinkHtml;\n",
              "          element.appendChild(docLink);\n",
              "        }\n",
              "      </script>\n",
              "    </div>\n",
              "  </div>\n",
              "  "
            ]
          },
          "metadata": {},
          "execution_count": 9
        }
      ]
    },
    {
      "cell_type": "code",
      "source": [
        "msft_hist.plot(y=\"Close\", use_index=True)"
      ],
      "metadata": {
        "colab": {
          "base_uri": "https://localhost:8080/",
          "height": 287
        },
        "id": "icFvYgby5GHH",
        "outputId": "6f168be1-5db7-4cbb-cc44-a6622cb4b019"
      },
      "execution_count": 10,
      "outputs": [
        {
          "output_type": "execute_result",
          "data": {
            "text/plain": [
              "<matplotlib.axes._subplots.AxesSubplot at 0x7f4b59700d00>"
            ]
          },
          "metadata": {},
          "execution_count": 10
        },
        {
          "output_type": "display_data",
          "data": {
            "text/plain": [
              "<Figure size 432x288 with 1 Axes>"
            ],
            "image/png": "[encoded data removed]"
          },
          "metadata": {
            "needs_background": "light"
          }
        }
      ]
    },
    {
      "cell_type": "code",
      "source": [
        "data = msft_hist[[\"Close\"]]\n",
        "data = data.rename(columns={\"Close\":\"Actual_Close\"})\n",
        "data[\"Target\"] = msft_hist.rolling(2).apply(lambda x: x.iloc[1] > x.iloc[0])[\"Close\"]\n",
        "data.head()"
      ],
      "metadata": {
        "colab": {
          "base_uri": "https://localhost:8080/",
          "height": 237
        },
        "id": "SPzYoXiQ6UkI",
        "outputId": "2a117098-5bad-4d5f-d594-af47e439711a"
      },
      "execution_count": 40,
      "outputs": [
        {
          "output_type": "execute_result",
          "data": {
            "text/plain": [
              "                           Actual_Close  Target\n",
              "Date                                           \n",
              "1986-03-13 00:00:00-05:00      0.060809     NaN\n",
              "1986-03-14 00:00:00-05:00      0.062980     1.0\n",
              "1986-03-17 00:00:00-05:00      0.064067     1.0\n",
              "1986-03-18 00:00:00-05:00      0.062437     0.0\n",
              "1986-03-19 00:00:00-05:00      0.061351     0.0"
            ],
            "text/html": [
              "\n",
              "  <div id=\"df-9bb01789-ffbf-4b15-a609-40a4b3d8e00c\">\n",
              "    <div class=\"colab-df-container\">\n",
              "      <div>\n",
              "<style scoped>\n",
              "    .dataframe tbody tr th:only-of-type {\n",
              "        vertical-align: middle;\n",
              "    }\n",
              "\n",
              "    .dataframe tbody tr th {\n",
              "        vertical-align: top;\n",
              "    }\n",
              "\n",
              "    .dataframe thead th {\n",
              "        text-align: right;\n",
              "    }\n",
              "</style>\n",
              "<table border=\"1\" class=\"dataframe\">\n",
              "  <thead>\n",
              "    <tr style=\"text-align: right;\">\n",
              "      <th></th>\n",
              "      <th>Actual_Close</th>\n",
              "      <th>Target</th>\n",
              "    </tr>\n",
              "    <tr>\n",
              "      <th>Date</th>\n",
              "      <th></th>\n",
              "      <th></th>\n",
              "    </tr>\n",
              "  </thead>\n",
              "  <tbody>\n",
              "    <tr>\n",
              "      <th>1986-03-13 00:00:00-05:00</th>\n",
              "      <td>0.060809</td>\n",
              "      <td>NaN</td>\n",
              "    </tr>\n",
              "    <tr>\n",
              "      <th>1986-03-14 00:00:00-05:00</th>\n",
              "      <td>0.062980</td>\n",
              "      <td>1.0</td>\n",
              "    </tr>\n",
              "    <tr>\n",
              "      <th>1986-03-17 00:00:00-05:00</th>\n",
              "      <td>0.064067</td>\n",
              "      <td>1.0</td>\n",
              "    </tr>\n",
              "    <tr>\n",
              "      <th>1986-03-18 00:00:00-05:00</th>\n",
              "      <td>0.062437</td>\n",
              "      <td>0.0</td>\n",
              "    </tr>\n",
              "    <tr>\n",
              "      <th>1986-03-19 00:00:00-05:00</th>\n",
              "      <td>0.061351</td>\n",
              "      <td>0.0</td>\n",
              "    </tr>\n",
              "  </tbody>\n",
              "</table>\n",
              "</div>\n",
              "      <button class=\"colab-df-convert\" onclick=\"convertToInteractive('df-9bb01789-ffbf-4b15-a609-40a4b3d8e00c')\"\n",
              "              title=\"Convert this dataframe to an interactive table.\"\n",
              "              style=\"display:none;\">\n",
              "        \n",
              "  <svg xmlns=\"http://www.w3.org/2000/svg\" height=\"24px\"viewBox=\"0 0 24 24\"\n",
              "       width=\"24px\">\n",
              "    <path d=\"M0 0h24v24H0V0z\" fill=\"none\"/>\n",
              "    <path d=\"M18.56 5.44l.94 2.06.94-2.06 2.06-.94-2.06-.94-.94-2.06-.94 2.06-2.06.94zm-11 1L8.5 8.5l.94-2.06 2.06-.94-2.06-.94L8.5 2.5l-.94 2.06-2.06.94zm10 10l.94 2.06.94-2.06 2.06-.94-2.06-.94-.94-2.06-.94 2.06-2.06.94z\"/><path d=\"M17.41 7.96l-1.37-1.37c-.4-.4-.92-.59-1.43-.59-.52 0-1.04.2-1.43.59L10.3 9.45l-7.72 7.72c-.78.78-.78 2.05 0 2.83L4 21.41c.39.39.9.59 1.41.59.51 0 1.02-.2 1.41-.59l7.78-7.78 2.81-2.81c.8-.78.8-2.07 0-2.86zM5.41 20L4 18.59l7.72-7.72 1.47 1.35L5.41 20z\"/>\n",
              "  </svg>\n",
              "      </button>\n",
              "      \n",
              "  <style>\n",
              "    .colab-df-container {\n",
              "      display:flex;\n",
              "      flex-wrap:wrap;\n",
              "      gap: 12px;\n",
              "    }\n",
              "\n",
              "    .colab-df-convert {\n",
              "      background-color: #E8F0FE;\n",
              "      border: none;\n",
              "      border-radius: 50%;\n",
              "      cursor: pointer;\n",
              "      display: none;\n",
              "      fill: #1967D2;\n",
              "      height: 32px;\n",
              "      padding: 0 0 0 0;\n",
              "      width: 32px;\n",
              "    }\n",
              "\n",
              "    .colab-df-convert:hover {\n",
              "      background-color: #E2EBFA;\n",
              "      box-shadow: 0px 1px 2px rgba(60, 64, 67, 0.3), 0px 1px 3px 1px rgba(60, 64, 67, 0.15);\n",
              "      fill: #174EA6;\n",
              "    }\n",
              "\n",
              "    [theme=dark] .colab-df-convert {\n",
              "      background-color: #3B4455;\n",
              "      fill: #D2E3FC;\n",
              "    }\n",
              "\n",
              "    [theme=dark] .colab-df-convert:hover {\n",
              "      background-color: #434B5C;\n",
              "      box-shadow: 0px 1px 3px 1px rgba(0, 0, 0, 0.15);\n",
              "      filter: drop-shadow(0px 1px 2px rgba(0, 0, 0, 0.3));\n",
              "      fill: #FFFFFF;\n",
              "    }\n",
              "  </style>\n",
              "\n",
              "      <script>\n",
              "        const buttonEl =\n",
              "          document.querySelector('#df-9bb01789-ffbf-4b15-a609-40a4b3d8e00c button.colab-df-convert');\n",
              "        buttonEl.style.display =\n",
              "          google.colab.kernel.accessAllowed ? 'block' : 'none';\n",
              "\n",
              "        async function convertToInteractive(key) {\n",
              "          const element = document.querySelector('#df-9bb01789-ffbf-4b15-a609-40a4b3d8e00c');\n",
              "          const dataTable =\n",
              "            await google.colab.kernel.invokeFunction('convertToInteractive',\n",
              "                                                     [key], {});\n",
              "          if (!dataTable) return;\n",
              "\n",
              "          const docLinkHtml = 'Like what you see? Visit the ' +\n",
              "            '<a target=\"_blank\" href=https://colab.research.google.com/notebooks/data_table.ipynb>data table notebook</a>'\n",
              "            + ' to learn more about interactive tables.';\n",
              "          element.innerHTML = '';\n",
              "          dataTable['output_type'] = 'display_data';\n",
              "          await google.colab.output.renderOutput(dataTable, element);\n",
              "          const docLink = document.createElement('div');\n",
              "          docLink.innerHTML = docLinkHtml;\n",
              "          element.appendChild(docLink);\n",
              "        }\n",
              "      </script>\n",
              "    </div>\n",
              "  </div>\n",
              "  "
            ]
          },
          "metadata": {},
          "execution_count": 40
        }
      ]
    },
    {
      "cell_type": "code",
      "source": [
        "msft_prev=msft_hist.copy()\n",
        "msft_prev=msft_prev.shift(1)\n",
        "predictors=[\"Close\",\"Open\", \"High\",\"Low\",\"Volume\"]\n",
        "data=data.join(msft_prev[predictors]).iloc[1:]\n",
        "data"
      ],
      "metadata": {
        "colab": {
          "base_uri": "https://localhost:8080/",
          "height": 455
        },
        "id": "ogi-OvtDCm_A",
        "outputId": "73837f03-169f-40c5-9c94-b319aed1766b"
      },
      "execution_count": 41,
      "outputs": [
        {
          "output_type": "execute_result",
          "data": {
            "text/plain": [
              "                           Actual_Close  Target       Close        Open  \\\n",
              "Date                                                                      \n",
              "1986-03-14 00:00:00-05:00      0.062980     1.0    0.060809    0.055380   \n",
              "1986-03-17 00:00:00-05:00      0.064067     1.0    0.062980    0.060809   \n",
              "1986-03-18 00:00:00-05:00      0.062437     0.0    0.064067    0.062980   \n",
              "1986-03-19 00:00:00-05:00      0.061351     0.0    0.062437    0.064067   \n",
              "1986-03-20 00:00:00-05:00      0.059723     0.0    0.061351    0.062437   \n",
              "...                                 ...     ...         ...         ...   \n",
              "2022-11-28 00:00:00-05:00    241.759995     0.0  247.490005  247.309998   \n",
              "2022-11-29 00:00:00-05:00    240.330002     0.0  241.759995  246.080002   \n",
              "2022-11-30 00:00:00-05:00    255.139999     1.0  240.330002  241.399994   \n",
              "2022-12-01 00:00:00-05:00    254.690002     0.0  255.139999  240.570007   \n",
              "2022-12-02 00:00:00-05:00    255.020004     1.0  254.690002  253.869995   \n",
              "\n",
              "                                 High         Low        Volume  \n",
              "Date                                                             \n",
              "1986-03-14 00:00:00-05:00    0.063524    0.055380  1.031789e+09  \n",
              "1986-03-17 00:00:00-05:00    0.064067    0.060809  3.081600e+08  \n",
              "1986-03-18 00:00:00-05:00    0.064609    0.062980  1.331712e+08  \n",
              "1986-03-19 00:00:00-05:00    0.064609    0.061894  6.776640e+07  \n",
              "1986-03-20 00:00:00-05:00    0.062980    0.060809  4.789440e+07  \n",
              "...                               ...         ...           ...  \n",
              "2022-11-28 00:00:00-05:00  248.699997  246.729996  9.200800e+06  \n",
              "2022-11-29 00:00:00-05:00  246.649994  240.800003  2.477820e+07  \n",
              "2022-11-30 00:00:00-05:00  242.789993  238.210007  1.795630e+07  \n",
              "2022-12-01 00:00:00-05:00  255.330002  239.860001  4.755380e+07  \n",
              "2022-12-02 00:00:00-05:00  256.119995  250.919998  2.604150e+07  \n",
              "\n",
              "[9257 rows x 7 columns]"
            ],
            "text/html": [
              "\n",
              "  <div id=\"df-25a569f0-4722-47ea-824d-3d29df0b2494\">\n",
              "    <div class=\"colab-df-container\">\n",
              "      <div>\n",
              "<style scoped>\n",
              "    .dataframe tbody tr th:only-of-type {\n",
              "        vertical-align: middle;\n",
              "    }\n",
              "\n",
              "    .dataframe tbody tr th {\n",
              "        vertical-align: top;\n",
              "    }\n",
              "\n",
              "    .dataframe thead th {\n",
              "        text-align: right;\n",
              "    }\n",
              "</style>\n",
              "<table border=\"1\" class=\"dataframe\">\n",
              "  <thead>\n",
              "    <tr style=\"text-align: right;\">\n",
              "      <th></th>\n",
              "      <th>Actual_Close</th>\n",
              "      <th>Target</th>\n",
              "      <th>Close</th>\n",
              "      <th>Open</th>\n",
              "      <th>High</th>\n",
              "      <th>Low</th>\n",
              "      <th>Volume</th>\n",
              "    </tr>\n",
              "    <tr>\n",
              "      <th>Date</th>\n",
              "      <th></th>\n",
              "      <th></th>\n",
              "      <th></th>\n",
              "      <th></th>\n",
              "      <th></th>\n",
              "      <th></th>\n",
              "      <th></th>\n",
              "    </tr>\n",
              "  </thead>\n",
              "  <tbody>\n",
              "    <tr>\n",
              "      <th>1986-03-14 00:00:00-05:00</th>\n",
              "      <td>0.062980</td>\n",
              "      <td>1.0</td>\n",
              "      <td>0.060809</td>\n",
              "      <td>0.055380</td>\n",
              "      <td>0.063524</td>\n",
              "      <td>0.055380</td>\n",
              "      <td>1.031789e+09</td>\n",
              "    </tr>\n",
              "    <tr>\n",
              "      <th>1986-03-17 00:00:00-05:00</th>\n",
              "      <td>0.064067</td>\n",
              "      <td>1.0</td>\n",
              "      <td>0.062980</td>\n",
              "      <td>0.060809</td>\n",
              "      <td>0.064067</td>\n",
              "      <td>0.060809</td>\n",
              "      <td>3.081600e+08</td>\n",
              "    </tr>\n",
              "    <tr>\n",
              "      <th>1986-03-18 00:00:00-05:00</th>\n",
              "      <td>0.062437</td>\n",
              "      <td>0.0</td>\n",
              "      <td>0.064067</td>\n",
              "      <td>0.062980</td>\n",
              "      <td>0.064609</td>\n",
              "      <td>0.062980</td>\n",
              "      <td>1.331712e+08</td>\n",
              "    </tr>\n",
              "    <tr>\n",
              "      <th>1986-03-19 00:00:00-05:00</th>\n",
              "      <td>0.061351</td>\n",
              "      <td>0.0</td>\n",
              "      <td>0.062437</td>\n",
              "      <td>0.064067</td>\n",
              "      <td>0.064609</td>\n",
              "      <td>0.061894</td>\n",
              "      <td>6.776640e+07</td>\n",
              "    </tr>\n",
              "    <tr>\n",
              "      <th>1986-03-20 00:00:00-05:00</th>\n",
              "      <td>0.059723</td>\n",
              "      <td>0.0</td>\n",
              "      <td>0.061351</td>\n",
              "      <td>0.062437</td>\n",
              "      <td>0.062980</td>\n",
              "      <td>0.060809</td>\n",
              "      <td>4.789440e+07</td>\n",
              "    </tr>\n",
              "    <tr>\n",
              "      <th>...</th>\n",
              "      <td>...</td>\n",
              "      <td>...</td>\n",
              "      <td>...</td>\n",
              "      <td>...</td>\n",
              "      <td>...</td>\n",
              "      <td>...</td>\n",
              "      <td>...</td>\n",
              "    </tr>\n",
              "    <tr>\n",
              "      <th>2022-11-28 00:00:00-05:00</th>\n",
              "      <td>241.759995</td>\n",
              "      <td>0.0</td>\n",
              "      <td>247.490005</td>\n",
              "      <td>247.309998</td>\n",
              "      <td>248.699997</td>\n",
              "      <td>246.729996</td>\n",
              "      <td>9.200800e+06</td>\n",
              "    </tr>\n",
              "    <tr>\n",
              "      <th>2022-11-29 00:00:00-05:00</th>\n",
              "      <td>240.330002</td>\n",
              "      <td>0.0</td>\n",
              "      <td>241.759995</td>\n",
              "      <td>246.080002</td>\n",
              "      <td>246.649994</td>\n",
              "      <td>240.800003</td>\n",
              "      <td>2.477820e+07</td>\n",
              "    </tr>\n",
              "    <tr>\n",
              "      <th>2022-11-30 00:00:00-05:00</th>\n",
              "      <td>255.139999</td>\n",
              "      <td>1.0</td>\n",
              "      <td>240.330002</td>\n",
              "      <td>241.399994</td>\n",
              "      <td>242.789993</td>\n",
              "      <td>238.210007</td>\n",
              "      <td>1.795630e+07</td>\n",
              "    </tr>\n",
              "    <tr>\n",
              "      <th>2022-12-01 00:00:00-05:00</th>\n",
              "      <td>254.690002</td>\n",
              "      <td>0.0</td>\n",
              "      <td>255.139999</td>\n",
              "      <td>240.570007</td>\n",
              "      <td>255.330002</td>\n",
              "      <td>239.860001</td>\n",
              "      <td>4.755380e+07</td>\n",
              "    </tr>\n",
              "    <tr>\n",
              "      <th>2022-12-02 00:00:00-05:00</th>\n",
              "      <td>255.020004</td>\n",
              "      <td>1.0</td>\n",
              "      <td>254.690002</td>\n",
              "      <td>253.869995</td>\n",
              "      <td>256.119995</td>\n",
              "      <td>250.919998</td>\n",
              "      <td>2.604150e+07</td>\n",
              "    </tr>\n",
              "  </tbody>\n",
              "</table>\n",
              "<p>9257 rows × 7 columns</p>\n",
              "</div>\n",
              "      <button class=\"colab-df-convert\" onclick=\"convertToInteractive('df-25a569f0-4722-47ea-824d-3d29df0b2494')\"\n",
              "              title=\"Convert this dataframe to an interactive table.\"\n",
              "              style=\"display:none;\">\n",
              "        \n",
              "  <svg xmlns=\"http://www.w3.org/2000/svg\" height=\"24px\"viewBox=\"0 0 24 24\"\n",
              "       width=\"24px\">\n",
              "    <path d=\"M0 0h24v24H0V0z\" fill=\"none\"/>\n",
              "    <path d=\"M18.56 5.44l.94 2.06.94-2.06 2.06-.94-2.06-.94-.94-2.06-.94 2.06-2.06.94zm-11 1L8.5 8.5l.94-2.06 2.06-.94-2.06-.94L8.5 2.5l-.94 2.06-2.06.94zm10 10l.94 2.06.94-2.06 2.06-.94-2.06-.94-.94-2.06-.94 2.06-2.06.94z\"/><path d=\"M17.41 7.96l-1.37-1.37c-.4-.4-.92-.59-1.43-.59-.52 0-1.04.2-1.43.59L10.3 9.45l-7.72 7.72c-.78.78-.78 2.05 0 2.83L4 21.41c.39.39.9.59 1.41.59.51 0 1.02-.2 1.41-.59l7.78-7.78 2.81-2.81c.8-.78.8-2.07 0-2.86zM5.41 20L4 18.59l7.72-7.72 1.47 1.35L5.41 20z\"/>\n",
              "  </svg>\n",
              "      </button>\n",
              "      \n",
              "  <style>\n",
              "    .colab-df-container {\n",
              "      display:flex;\n",
              "      flex-wrap:wrap;\n",
              "      gap: 12px;\n",
              "    }\n",
              "\n",
              "    .colab-df-convert {\n",
              "      background-color: #E8F0FE;\n",
              "      border: none;\n",
              "      border-radius: 50%;\n",
              "      cursor: pointer;\n",
              "      display: none;\n",
              "      fill: #1967D2;\n",
              "      height: 32px;\n",
              "      padding: 0 0 0 0;\n",
              "      width: 32px;\n",
              "    }\n",
              "\n",
              "    .colab-df-convert:hover {\n",
              "      background-color: #E2EBFA;\n",
              "      box-shadow: 0px 1px 2px rgba(60, 64, 67, 0.3), 0px 1px 3px 1px rgba(60, 64, 67, 0.15);\n",
              "      fill: #174EA6;\n",
              "    }\n",
              "\n",
              "    [theme=dark] .colab-df-convert {\n",
              "      background-color: #3B4455;\n",
              "      fill: #D2E3FC;\n",
              "    }\n",
              "\n",
              "    [theme=dark] .colab-df-convert:hover {\n",
              "      background-color: #434B5C;\n",
              "      box-shadow: 0px 1px 3px 1px rgba(0, 0, 0, 0.15);\n",
              "      filter: drop-shadow(0px 1px 2px rgba(0, 0, 0, 0.3));\n",
              "      fill: #FFFFFF;\n",
              "    }\n",
              "  </style>\n",
              "\n",
              "      <script>\n",
              "        const buttonEl =\n",
              "          document.querySelector('#df-25a569f0-4722-47ea-824d-3d29df0b2494 button.colab-df-convert');\n",
              "        buttonEl.style.display =\n",
              "          google.colab.kernel.accessAllowed ? 'block' : 'none';\n",
              "\n",
              "        async function convertToInteractive(key) {\n",
              "          const element = document.querySelector('#df-25a569f0-4722-47ea-824d-3d29df0b2494');\n",
              "          const dataTable =\n",
              "            await google.colab.kernel.invokeFunction('convertToInteractive',\n",
              "                                                     [key], {});\n",
              "          if (!dataTable) return;\n",
              "\n",
              "          const docLinkHtml = 'Like what you see? Visit the ' +\n",
              "            '<a target=\"_blank\" href=https://colab.research.google.com/notebooks/data_table.ipynb>data table notebook</a>'\n",
              "            + ' to learn more about interactive tables.';\n",
              "          element.innerHTML = '';\n",
              "          dataTable['output_type'] = 'display_data';\n",
              "          await google.colab.output.renderOutput(dataTable, element);\n",
              "          const docLink = document.createElement('div');\n",
              "          docLink.innerHTML = docLinkHtml;\n",
              "          element.appendChild(docLink);\n",
              "        }\n",
              "      </script>\n",
              "    </div>\n",
              "  </div>\n",
              "  "
            ]
          },
          "metadata": {},
          "execution_count": 41
        }
      ]
    },
    {
      "cell_type": "code",
      "source": [
        "from sklearn.ensemble import RandomForestClassifier\n",
        "import numpy as np\n",
        "\n",
        "model = RandomForestClassifier(n_estimators=100, min_samples_split=200, random_state=1)\n",
        "\n",
        "train = data.iloc[:-100]\n",
        "test = data.iloc[-100:]\n",
        "\n",
        "model.fit(train[predictors], train[\"Target\"])"
      ],
      "metadata": {
        "colab": {
          "base_uri": "https://localhost:8080/"
        },
        "id": "DzQ50lw0Obh9",
        "outputId": "3fc8e865-c70c-47fb-f58a-3e224f22ebd5"
      },
      "execution_count": 42,
      "outputs": [
        {
          "output_type": "execute_result",
          "data": {
            "text/plain": [
              "RandomForestClassifier(min_samples_split=200, random_state=1)"
            ]
          },
          "metadata": {},
          "execution_count": 42
        }
      ]
    },
    {
      "cell_type": "code",
      "source": [
        "from sklearn.metrics import precision_score\n",
        "\n",
        "preds = model.predict(test[predictors])\n",
        "preds = pd.Series(preds, index=test.index)\n",
        "precision_score(test[\"Target\"], preds)"
      ],
      "metadata": {
        "colab": {
          "base_uri": "https://localhost:8080/"
        },
        "id": "Bq22TYL9Ok4r",
        "outputId": "40efca44-7b11-40f3-f47b-9c7a4ae65131"
      },
      "execution_count": 43,
      "outputs": [
        {
          "output_type": "execute_result",
          "data": {
            "text/plain": [
              "0.4931506849315068"
            ]
          },
          "metadata": {},
          "execution_count": 43
        }
      ]
    },
    {
      "cell_type": "code",
      "source": [
        "combined = pd.concat({\"Target\": test[\"Target\"],\"Predictions\": preds}, axis=1)\n",
        "combined.plot()\n"
      ],
      "metadata": {
        "colab": {
          "base_uri": "https://localhost:8080/",
          "height": 294
        },
        "id": "vSpZ8u_HOrHJ",
        "outputId": "a3de27ad-70c8-4881-b7ec-684ded1a13a0"
      },
      "execution_count": 44,
      "outputs": [
        {
          "output_type": "execute_result",
          "data": {
            "text/plain": [
              "<matplotlib.axes._subplots.AxesSubplot at 0x7f4b4df2b7c0>"
            ]
          },
          "metadata": {},
          "execution_count": 44
        },
        {
          "output_type": "display_data",
          "data": {
            "text/plain": [
              "<Figure size 432x288 with 1 Axes>"
            ],
            "image/png": "[encoded data removed]"
          },
          "metadata": {
            "needs_background": "light"
          }
        }
      ]
    },
    {
      "cell_type": "code",
      "source": [
        "def backtest(data, model, predictors, start=1000, step=750):\n",
        "    predictions = []\n",
        "    # Loop over the dataset in increments\n",
        "    for i in range(start, data.shape[0], step):\n",
        "        train = data.iloc[0:i].copy()\n",
        "        test = data.iloc[i:(i+step)].copy()\n",
        "        \n",
        "        model.fit(train[predictors], train[\"Target\"])\n",
        "        \n",
        "        preds = model.predict_proba(test[predictors])[:,1]\n",
        "        preds = pd.Series(preds, index=test.index)\n",
        "        preds[preds > .6] = 1\n",
        "        preds[preds<=.6] = 0\n",
        "        \n",
        "        combined = pd.concat({\"Target\": test[\"Target\"],\"Predictions\": preds}, axis=1)\n",
        "        \n",
        "        predictions.append(combined)\n",
        "    \n",
        "    return pd.concat(predictions)"
      ],
      "metadata": {
        "id": "GKjuQcZyOvSo"
      },
      "execution_count": 45,
      "outputs": []
    },
    {
      "cell_type": "code",
      "source": [
        "predictions = backtest(data, model, predictors)\n",
        "predictions[\"Predictions\"].value_counts()\n"
      ],
      "metadata": {
        "colab": {
          "base_uri": "https://localhost:8080/"
        },
        "id": "j8Qj8md8O0Ns",
        "outputId": "2e2f37fe-f39a-47c6-d33e-742c03354039"
      },
      "execution_count": 46,
      "outputs": [
        {
          "output_type": "execute_result",
          "data": {
            "text/plain": [
              "0.0    7535\n",
              "1.0     722\n",
              "Name: Predictions, dtype: int64"
            ]
          },
          "metadata": {},
          "execution_count": 46
        }
      ]
    },
    {
      "cell_type": "code",
      "source": [
        "precision_score(predictions[\"Target\"], predictions[\"Predictions\"])\n"
      ],
      "metadata": {
        "colab": {
          "base_uri": "https://localhost:8080/"
        },
        "id": "5X_iVlEJPBK1",
        "outputId": "697929cf-2809-4a5f-a233-4338ec859f3a"
      },
      "execution_count": 47,
      "outputs": [
        {
          "output_type": "execute_result",
          "data": {
            "text/plain": [
              "0.5041551246537396"
            ]
          },
          "metadata": {},
          "execution_count": 47
        }
      ]
    },
    {
      "cell_type": "code",
      "source": [
        "weekly_mean = data.rolling(7).mean()\n",
        "quarterly_mean = data.rolling(90).mean()\n",
        "annual_mean = data.rolling(365).mean()\n",
        "weekly_trend = data.shift(1).rolling(7).mean()[\"Target\"]"
      ],
      "metadata": {
        "id": "vhKmw_3EPFUI"
      },
      "execution_count": 48,
      "outputs": []
    },
    {
      "cell_type": "code",
      "source": [
        "data.head()"
      ],
      "metadata": {
        "colab": {
          "base_uri": "https://localhost:8080/",
          "height": 237
        },
        "id": "t_6HTULWQHPf",
        "outputId": "7e64f67e-d09b-4fa2-d07c-e9b2f732f2a1"
      },
      "execution_count": 49,
      "outputs": [
        {
          "output_type": "execute_result",
          "data": {
            "text/plain": [
              "                           Actual_Close  Target     Close      Open      High  \\\n",
              "Date                                                                            \n",
              "1986-03-14 00:00:00-05:00      0.062980     1.0  0.060809  0.055380  0.063524   \n",
              "1986-03-17 00:00:00-05:00      0.064067     1.0  0.062980  0.060809  0.064067   \n",
              "1986-03-18 00:00:00-05:00      0.062437     0.0  0.064067  0.062980  0.064609   \n",
              "1986-03-19 00:00:00-05:00      0.061351     0.0  0.062437  0.064067  0.064609   \n",
              "1986-03-20 00:00:00-05:00      0.059723     0.0  0.061351  0.062437  0.062980   \n",
              "\n",
              "                                Low        Volume  \n",
              "Date                                               \n",
              "1986-03-14 00:00:00-05:00  0.055380  1.031789e+09  \n",
              "1986-03-17 00:00:00-05:00  0.060809  3.081600e+08  \n",
              "1986-03-18 00:00:00-05:00  0.062980  1.331712e+08  \n",
              "1986-03-19 00:00:00-05:00  0.061894  6.776640e+07  \n",
              "1986-03-20 00:00:00-05:00  0.060809  4.789440e+07  "
            ],
            "text/html": [
              "\n",
              "  <div id=\"df-8e6da4d6-02f8-474d-887d-5bf6147409ea\">\n",
              "    <div class=\"colab-df-container\">\n",
              "      <div>\n",
              "<style scoped>\n",
              "    .dataframe tbody tr th:only-of-type {\n",
              "        vertical-align: middle;\n",
              "    }\n",
              "\n",
              "    .dataframe tbody tr th {\n",
              "        vertical-align: top;\n",
              "    }\n",
              "\n",
              "    .dataframe thead th {\n",
              "        text-align: right;\n",
              "    }\n",
              "</style>\n",
              "<table border=\"1\" class=\"dataframe\">\n",
              "  <thead>\n",
              "    <tr style=\"text-align: right;\">\n",
              "      <th></th>\n",
              "      <th>Actual_Close</th>\n",
              "      <th>Target</th>\n",
              "      <th>Close</th>\n",
              "      <th>Open</th>\n",
              "      <th>High</th>\n",
              "      <th>Low</th>\n",
              "      <th>Volume</th>\n",
              "    </tr>\n",
              "    <tr>\n",
              "      <th>Date</th>\n",
              "      <th></th>\n",
              "      <th></th>\n",
              "      <th></th>\n",
              "      <th></th>\n",
              "      <th></th>\n",
              "      <th></th>\n",
              "      <th></th>\n",
              "    </tr>\n",
              "  </thead>\n",
              "  <tbody>\n",
              "    <tr>\n",
              "      <th>1986-03-14 00:00:00-05:00</th>\n",
              "      <td>0.062980</td>\n",
              "      <td>1.0</td>\n",
              "      <td>0.060809</td>\n",
              "      <td>0.055380</td>\n",
              "      <td>0.063524</td>\n",
              "      <td>0.055380</td>\n",
              "      <td>1.031789e+09</td>\n",
              "    </tr>\n",
              "    <tr>\n",
              "      <th>1986-03-17 00:00:00-05:00</th>\n",
              "      <td>0.064067</td>\n",
              "      <td>1.0</td>\n",
              "      <td>0.062980</td>\n",
              "      <td>0.060809</td>\n",
              "      <td>0.064067</td>\n",
              "      <td>0.060809</td>\n",
              "      <td>3.081600e+08</td>\n",
              "    </tr>\n",
              "    <tr>\n",
              "      <th>1986-03-18 00:00:00-05:00</th>\n",
              "      <td>0.062437</td>\n",
              "      <td>0.0</td>\n",
              "      <td>0.064067</td>\n",
              "      <td>0.062980</td>\n",
              "      <td>0.064609</td>\n",
              "      <td>0.062980</td>\n",
              "      <td>1.331712e+08</td>\n",
              "    </tr>\n",
              "    <tr>\n",
              "      <th>1986-03-19 00:00:00-05:00</th>\n",
              "      <td>0.061351</td>\n",
              "      <td>0.0</td>\n",
              "      <td>0.062437</td>\n",
              "      <td>0.064067</td>\n",
              "      <td>0.064609</td>\n",
              "      <td>0.061894</td>\n",
              "      <td>6.776640e+07</td>\n",
              "    </tr>\n",
              "    <tr>\n",
              "      <th>1986-03-20 00:00:00-05:00</th>\n",
              "      <td>0.059723</td>\n",
              "      <td>0.0</td>\n",
              "      <td>0.061351</td>\n",
              "      <td>0.062437</td>\n",
              "      <td>0.062980</td>\n",
              "      <td>0.060809</td>\n",
              "      <td>4.789440e+07</td>\n",
              "    </tr>\n",
              "  </tbody>\n",
              "</table>\n",
              "</div>\n",
              "      <button class=\"colab-df-convert\" onclick=\"convertToInteractive('df-8e6da4d6-02f8-474d-887d-5bf6147409ea')\"\n",
              "              title=\"Convert this dataframe to an interactive table.\"\n",
              "              style=\"display:none;\">\n",
              "        \n",
              "  <svg xmlns=\"http://www.w3.org/2000/svg\" height=\"24px\"viewBox=\"0 0 24 24\"\n",
              "       width=\"24px\">\n",
              "    <path d=\"M0 0h24v24H0V0z\" fill=\"none\"/>\n",
              "    <path d=\"M18.56 5.44l.94 2.06.94-2.06 2.06-.94-2.06-.94-.94-2.06-.94 2.06-2.06.94zm-11 1L8.5 8.5l.94-2.06 2.06-.94-2.06-.94L8.5 2.5l-.94 2.06-2.06.94zm10 10l.94 2.06.94-2.06 2.06-.94-2.06-.94-.94-2.06-.94 2.06-2.06.94z\"/><path d=\"M17.41 7.96l-1.37-1.37c-.4-.4-.92-.59-1.43-.59-.52 0-1.04.2-1.43.59L10.3 9.45l-7.72 7.72c-.78.78-.78 2.05 0 2.83L4 21.41c.39.39.9.59 1.41.59.51 0 1.02-.2 1.41-.59l7.78-7.78 2.81-2.81c.8-.78.8-2.07 0-2.86zM5.41 20L4 18.59l7.72-7.72 1.47 1.35L5.41 20z\"/>\n",
              "  </svg>\n",
              "      </button>\n",
              "      \n",
              "  <style>\n",
              "    .colab-df-container {\n",
              "      display:flex;\n",
              "      flex-wrap:wrap;\n",
              "      gap: 12px;\n",
              "    }\n",
              "\n",
              "    .colab-df-convert {\n",
              "      background-color: #E8F0FE;\n",
              "      border: none;\n",
              "      border-radius: 50%;\n",
              "      cursor: pointer;\n",
              "      display: none;\n",
              "      fill: #1967D2;\n",
              "      height: 32px;\n",
              "      padding: 0 0 0 0;\n",
              "      width: 32px;\n",
              "    }\n",
              "\n",
              "    .colab-df-convert:hover {\n",
              "      background-color: #E2EBFA;\n",
              "      box-shadow: 0px 1px 2px rgba(60, 64, 67, 0.3), 0px 1px 3px 1px rgba(60, 64, 67, 0.15);\n",
              "      fill: #174EA6;\n",
              "    }\n",
              "\n",
              "    [theme=dark] .colab-df-convert {\n",
              "      background-color: #3B4455;\n",
              "      fill: #D2E3FC;\n",
              "    }\n",
              "\n",
              "    [theme=dark] .colab-df-convert:hover {\n",
              "      background-color: #434B5C;\n",
              "      box-shadow: 0px 1px 3px 1px rgba(0, 0, 0, 0.15);\n",
              "      filter: drop-shadow(0px 1px 2px rgba(0, 0, 0, 0.3));\n",
              "      fill: #FFFFFF;\n",
              "    }\n",
              "  </style>\n",
              "\n",
              "      <script>\n",
              "        const buttonEl =\n",
              "          document.querySelector('#df-8e6da4d6-02f8-474d-887d-5bf6147409ea button.colab-df-convert');\n",
              "        buttonEl.style.display =\n",
              "          google.colab.kernel.accessAllowed ? 'block' : 'none';\n",
              "\n",
              "        async function convertToInteractive(key) {\n",
              "          const element = document.querySelector('#df-8e6da4d6-02f8-474d-887d-5bf6147409ea');\n",
              "          const dataTable =\n",
              "            await google.colab.kernel.invokeFunction('convertToInteractive',\n",
              "                                                     [key], {});\n",
              "          if (!dataTable) return;\n",
              "\n",
              "          const docLinkHtml = 'Like what you see? Visit the ' +\n",
              "            '<a target=\"_blank\" href=https://colab.research.google.com/notebooks/data_table.ipynb>data table notebook</a>'\n",
              "            + ' to learn more about interactive tables.';\n",
              "          element.innerHTML = '';\n",
              "          dataTable['output_type'] = 'display_data';\n",
              "          await google.colab.output.renderOutput(dataTable, element);\n",
              "          const docLink = document.createElement('div');\n",
              "          docLink.innerHTML = docLinkHtml;\n",
              "          element.appendChild(docLink);\n",
              "        }\n",
              "      </script>\n",
              "    </div>\n",
              "  </div>\n",
              "  "
            ]
          },
          "metadata": {},
          "execution_count": 49
        }
      ]
    },
    {
      "cell_type": "code",
      "source": [
        "data[\"weekly_mean\"] = weekly_mean[\"Close\"] / data[\"Close\"]\n",
        "data[\"quarterly_mean\"] = quarterly_mean[\"Close\"] / data[\"Close\"]\n",
        "data[\"annual_mean\"] = annual_mean[\"Close\"] / data[\"Close\"]\n",
        "\n",
        "data[\"annual_weekly_mean\"] = data[\"annual_mean\"] / data[\"weekly_mean\"]\n",
        "data[\"annual_quarterly_mean\"] = data[\"annual_mean\"] / data[\"quarterly_mean\"]\n",
        "data[\"weekly_trend\"] = weekly_trend\n",
        "\n",
        "data[\"open_close_ratio\"] = data[\"Open\"] / data[\"Close\"]\n",
        "data[\"high_close_ratio\"] = data[\"High\"] / data[\"Close\"]\n",
        "data[\"low_close_ratio\"] = data[\"Low\"] / data[\"Close\"]"
      ],
      "metadata": {
        "id": "BuvdEJOyPHa5"
      },
      "execution_count": 50,
      "outputs": []
    },
    {
      "cell_type": "code",
      "source": [
        "full_predictors = predictors + [\"weekly_mean\", \"quarterly_mean\", \"annual_mean\", \"annual_weekly_mean\", \"annual_quarterly_mean\", \"open_close_ratio\", \"high_close_ratio\", \"low_close_ratio\", \"weekly_trend\"]\n",
        "predictions = backtest(data.iloc[365:], model, full_predictors)"
      ],
      "metadata": {
        "id": "1vg7Z9RdPV0p"
      },
      "execution_count": 51,
      "outputs": []
    },
    {
      "cell_type": "code",
      "source": [
        "precision_score(predictions[\"Target\"], predictions[\"Predictions\"])\n"
      ],
      "metadata": {
        "colab": {
          "base_uri": "https://localhost:8080/"
        },
        "id": "fwytWSneQqOS",
        "outputId": "6b2a2e6c-c290-4922-b00d-8b8a9a2e61eb"
      },
      "execution_count": 52,
      "outputs": [
        {
          "output_type": "execute_result",
          "data": {
            "text/plain": [
              "0.5617529880478087"
            ]
          },
          "metadata": {},
          "execution_count": 52
        }
      ]
    },
    {
      "cell_type": "code",
      "source": [
        "predictions[\"Predictions\"].value_counts()"
      ],
      "metadata": {
        "colab": {
          "base_uri": "https://localhost:8080/"
        },
        "id": "wVqyJGx3R0BA",
        "outputId": "1142aea7-b687-44ec-8caf-702840f0c737"
      },
      "execution_count": 53,
      "outputs": [
        {
          "output_type": "execute_result",
          "data": {
            "text/plain": [
              "0.0    7641\n",
              "1.0     251\n",
              "Name: Predictions, dtype: int64"
            ]
          },
          "metadata": {},
          "execution_count": 53
        }
      ]
    },
    {
      "cell_type": "code",
      "source": [
        "predictions.iloc[-100:].plot()"
      ],
      "metadata": {
        "colab": {
          "base_uri": "https://localhost:8080/",
          "height": 294
        },
        "id": "x2oKK4GZR4Du",
        "outputId": "7a4bbcab-38ff-4d03-8ca8-49de8085d66f"
      },
      "execution_count": 54,
      "outputs": [
        {
          "output_type": "execute_result",
          "data": {
            "text/plain": [
              "<matplotlib.axes._subplots.AxesSubplot at 0x7f4b4e186af0>"
            ]
          },
          "metadata": {},
          "execution_count": 54
        },
        {
          "output_type": "display_data",
          "data": {
            "text/plain": [
              "<Figure size 432x288 with 1 Axes>"
            ],
            "image/png": "[encoded data removed]"
          },
          "metadata": {
            "needs_background": "light"
          }
        }
      ]
    }
  ]
}